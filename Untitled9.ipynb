{
  "nbformat": 4,
  "nbformat_minor": 0,
  "metadata": {
    "colab": {
      "provenance": [],
      "authorship_tag": "ABX9TyN7pCrIyri3Y3UE0Iqrsnhl",
      "include_colab_link": true
    },
    "kernelspec": {
      "name": "python3",
      "display_name": "Python 3"
    },
    "language_info": {
      "name": "python"
    }
  },
  "cells": [
    {
      "cell_type": "markdown",
      "metadata": {
        "id": "view-in-github",
        "colab_type": "text"
      },
      "source": [
        "<a href=\"https://colab.research.google.com/github/SaiRithik24/AD/blob/main/Untitled9.ipynb\" target=\"_parent\"><img src=\"https://colab.research.google.com/assets/colab-badge.svg\" alt=\"Open In Colab\"/></a>"
      ]
    },
    {
      "cell_type": "code",
      "execution_count": 3,
      "metadata": {
        "colab": {
          "base_uri": "https://localhost:8080/"
        },
        "id": "McqIFdfteqe5",
        "outputId": "dbbad467-fb2f-495f-e9ea-c3f9818fa9c5"
      },
      "outputs": [
        {
          "output_type": "stream",
          "name": "stdout",
          "text": [
            "say\n"
          ]
        }
      ],
      "source": [
        "string=\"do what i say \"\n",
        "for word in string.split():\n",
        "  if len(word)%3==0:\n",
        "    print(word)\n",
        "  #find the length of the string if the length of the string is more than 3 then print the first letter of the word;\n",
        ""
      ]
    },
    {
      "cell_type": "code",
      "source": [
        "string = input()\n",
        "length = len(string)\n",
        "print(\"Length of the string:\", length)\n"
      ],
      "metadata": {
        "colab": {
          "base_uri": "https://localhost:8080/"
        },
        "id": "2hFP9JArl3aI",
        "outputId": "aa2ab7c5-dd98-4cc9-ea60-68feb4453d9e"
      },
      "execution_count": 4,
      "outputs": [
        {
          "output_type": "stream",
          "name": "stdout",
          "text": [
            "hiii\n",
            "Length of the string: 4\n"
          ]
        }
      ]
    },
    {
      "cell_type": "code",
      "source": [
        "if length >= 3:\n",
        "  f_letter=string[0]\n",
        "  print(\"first letter of the string is: \", f_letter)"
      ],
      "metadata": {
        "colab": {
          "base_uri": "https://localhost:8080/"
        },
        "id": "EmMG-RaXp14d",
        "outputId": "f4839095-8429-4b11-f434-8c638d866a56"
      },
      "execution_count": 6,
      "outputs": [
        {
          "output_type": "stream",
          "name": "stdout",
          "text": [
            "first letter of the string is:  h\n"
          ]
        }
      ]
    },
    {
      "cell_type": "code",
      "source": [],
      "metadata": {
        "id": "9pHTWfq3qL_Z"
      },
      "execution_count": 8,
      "outputs": []
    },
    {
      "cell_type": "code",
      "source": [
        "string=\"there is a string\"\n",
        "for word in string:\n",
        "  if len(word)>=3:\n",
        "    print(word)"
      ],
      "metadata": {
        "id": "dtt60fJ8r0m_"
      },
      "execution_count": 11,
      "outputs": []
    },
    {
      "cell_type": "code",
      "source": [],
      "metadata": {
        "id": "wDBl1rGrr63n"
      },
      "execution_count": null,
      "outputs": []
    }
  ]
}