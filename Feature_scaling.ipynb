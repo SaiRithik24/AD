{
  "nbformat": 4,
  "nbformat_minor": 0,
  "metadata": {
    "colab": {
      "provenance": [],
      "authorship_tag": "ABX9TyN+uRhQ7cQa6tuGCpN50ANg",
      "include_colab_link": true
    },
    "kernelspec": {
      "name": "python3",
      "display_name": "Python 3"
    },
    "language_info": {
      "name": "python"
    }
  },
  "cells": [
    {
      "cell_type": "markdown",
      "metadata": {
        "id": "view-in-github",
        "colab_type": "text"
      },
      "source": [
        "<a href=\"https://colab.research.google.com/github/SaiRithik24/AD/blob/main/Feature_scaling.ipynb\" target=\"_parent\"><img src=\"https://colab.research.google.com/assets/colab-badge.svg\" alt=\"Open In Colab\"/></a>"
      ]
    },
    {
      "cell_type": "code",
      "execution_count": 5,
      "metadata": {
        "colab": {
          "base_uri": "https://localhost:8080/"
        },
        "id": "NfrAmZr0fbsC",
        "outputId": "6de5d07f-cf62-46a0-cc59-6ea9d4c604dd"
      },
      "outputs": [
        {
          "output_type": "stream",
          "name": "stdout",
          "text": [
            "original dataframe\n",
            "   Age  height  weight\n",
            "0   25     150      50\n",
            "1   30     160      60\n",
            "2   35     170      70\n",
            "3   40     180      80\n",
            "4   45     190      90\n",
            "/nnormalized dataframe (scaled to range [0,1]):\n",
            "    Age  height  weight\n",
            "0  0.00    0.00    0.00\n",
            "1  0.25    0.25    0.25\n",
            "2  0.50    0.50    0.50\n",
            "3  0.75    0.75    0.75\n",
            "4  1.00    1.00    1.00\n"
          ]
        }
      ],
      "source": [
        "import pandas as pd\n",
        "from sklearn.preprocessing import MinMaxScaler\n",
        "\n",
        "data = {\n",
        "    'Age': [25, 30, 35, 40, 45],\n",
        "    \"height\": [150, 160, 170, 180, 190],\n",
        "    \"weight\" : [50, 60, 70, 80, 90]\n",
        "}\n",
        "\n",
        "df = pd.DataFrame(data)\n",
        "print(\"original dataframe\")\n",
        "print(df)\n",
        "scaler = MinMaxScaler()\n",
        "#normalize the dataset\n",
        "\n",
        "normalized_data= scaler.fit_transform(df)\n",
        "\n",
        "normalized_df = pd.DataFrame(normalized_data, columns=df.columns)\n",
        "print(\"/nnormalized dataframe (scaled to range [0,1]):\")\n",
        "print(normalized_df)"
      ]
    },
    {
      "cell_type": "code",
      "source": [
        "import pandas as pd\n",
        "from sklearn.preprocessing import StandardScaler\n",
        "\n",
        "data = {\n",
        "    \"age\": [25, 20, 35, 40, 45],\n",
        "    \"height\": [150, 160, 170, 180, 190],\n",
        "    \"weight\": [50, 60, 70, 80, 90]\n",
        "}\n",
        "\n",
        "df = pd.DataFrame(data)\n",
        "print(\"Original dataframe\")\n",
        "print(df)\n",
        "\n",
        "scaler = StandardScaler()\n",
        "standardized_data = scaler.fit_transform(df)\n",
        "standardized_df = pd.DataFrame(standardized_data, columns=df.columns)\n",
        "print(\"Standardized dataframe\")\n",
        "print(standardized_df)"
      ],
      "metadata": {
        "colab": {
          "base_uri": "https://localhost:8080/"
        },
        "id": "MLKaAbLsmCBx",
        "outputId": "e62f227f-fb53-4f56-9daf-1132f7f94fd0"
      },
      "execution_count": 6,
      "outputs": [
        {
          "output_type": "stream",
          "name": "stdout",
          "text": [
            "Original dataframe\n",
            "   age  height  weight\n",
            "0   25     150      50\n",
            "1   20     160      60\n",
            "2   35     170      70\n",
            "3   40     180      80\n",
            "4   45     190      90\n",
            "Standardized dataframe\n",
            "        age    height    weight\n",
            "0 -0.862662 -1.414214 -1.414214\n",
            "1 -1.401826 -0.707107 -0.707107\n",
            "2  0.215666  0.000000  0.000000\n",
            "3  0.754829  0.707107  0.707107\n",
            "4  1.293993  1.414214  1.414214\n"
          ]
        }
      ]
    },
    {
      "cell_type": "code",
      "source": [],
      "metadata": {
        "id": "2gVSG9HdmmxJ"
      },
      "execution_count": null,
      "outputs": []
    }
  ]
}