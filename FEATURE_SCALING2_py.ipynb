{
  "nbformat": 4,
  "nbformat_minor": 0,
  "metadata": {
    "colab": {
      "provenance": [],
      "authorship_tag": "ABX9TyM+GelsXbhYIJ4QxRuZt5Rf",
      "include_colab_link": true
    },
    "kernelspec": {
      "name": "python3",
      "display_name": "Python 3"
    },
    "language_info": {
      "name": "python"
    }
  },
  "cells": [
    {
      "cell_type": "markdown",
      "metadata": {
        "id": "view-in-github",
        "colab_type": "text"
      },
      "source": [
        "<a href=\"https://colab.research.google.com/github/SaiRithik24/AD/blob/main/FEATURE_SCALING2_py.ipynb\" target=\"_parent\"><img src=\"https://colab.research.google.com/assets/colab-badge.svg\" alt=\"Open In Colab\"/></a>"
      ]
    },
    {
      "cell_type": "code",
      "execution_count": 1,
      "metadata": {
        "colab": {
          "base_uri": "https://localhost:8080/"
        },
        "id": "mb_KkOzexQjx",
        "outputId": "c62102bb-b29c-4ef3-cab9-4a47fc38d3b2"
      },
      "outputs": [
        {
          "output_type": "stream",
          "name": "stdout",
          "text": [
            "Original DataFrame:\n",
            "   customer_id  gender       city  fruits\n",
            "0            1    male  Hyderabad   apple\n",
            "1            2  female       pune  orange\n",
            "2            3    male  bangalore  banana\n",
            "3            4  female     mumbai    kivi\n",
            "\n",
            "One_Hot Encoded DataFrame:\n",
            "   gender_female  gender_male  city_Hyderabad  city_bangalore  city_mumbai  \\\n",
            "0            0.0          1.0             1.0             0.0          0.0   \n",
            "1            1.0          0.0             0.0             0.0          0.0   \n",
            "2            0.0          1.0             0.0             1.0          0.0   \n",
            "3            1.0          0.0             0.0             0.0          1.0   \n",
            "\n",
            "   city_pune  fruits_apple  fruits_banana  fruits_kivi  fruits_orange  \n",
            "0        0.0           1.0            0.0          0.0            0.0  \n",
            "1        1.0           0.0            0.0          0.0            1.0  \n",
            "2        0.0           0.0            1.0          0.0            0.0  \n",
            "3        0.0           0.0            0.0          1.0            0.0  \n"
          ]
        }
      ],
      "source": [
        "import pandas as pd\n",
        "from sklearn.preprocessing import OneHotEncoder\n",
        "\n",
        "data = {\n",
        "    \"customer_id\": [1, 2, 3, 4],\n",
        "    \"gender\": [\"male\", \"female\", \"male\", \"female\"],\n",
        "    \"city\": [\"Hyderabad\", \"pune\", \"bangalore\", \"mumbai\"],\n",
        "    \"fruits\": [\"apple\", \"orange\", \"banana\", \"kivi\"]\n",
        "}\n",
        "\n",
        "df = pd.DataFrame(data)\n",
        "print(\"Original DataFrame:\")\n",
        "print(df)\n",
        "\n",
        "one_hot_encoder = OneHotEncoder(sparse_output=False)\n",
        "columns_to_encode = [\"gender\", \"city\", \"fruits\"]\n",
        "encoded_data = one_hot_encoder.fit_transform(df[columns_to_encode])\n",
        "encoded_columns = one_hot_encoder.get_feature_names_out(columns_to_encode)\n",
        "encoded_df = pd.DataFrame(encoded_data, columns=encoded_columns)\n",
        "\n",
        "print(\"\\nOne_Hot Encoded DataFrame:\")\n",
        "print(encoded_df)"
      ]
    },
    {
      "cell_type": "code",
      "source": [],
      "metadata": {
        "id": "k6_hSqHIxV1U"
      },
      "execution_count": null,
      "outputs": []
    }
  ]
}