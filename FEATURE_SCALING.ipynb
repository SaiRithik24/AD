{
  "nbformat": 4,
  "nbformat_minor": 0,
  "metadata": {
    "colab": {
      "provenance": [],
      "authorship_tag": "ABX9TyP5uKrKiHvb7Lw6X4dQy0F5",
      "include_colab_link": true
    },
    "kernelspec": {
      "name": "python3",
      "display_name": "Python 3"
    },
    "language_info": {
      "name": "python"
    }
  },
  "cells": [
    {
      "cell_type": "markdown",
      "metadata": {
        "id": "view-in-github",
        "colab_type": "text"
      },
      "source": [
        "<a href=\"https://colab.research.google.com/github/SaiRithik24/AD/blob/main/FEATURE_SCALING.ipynb\" target=\"_parent\"><img src=\"https://colab.research.google.com/assets/colab-badge.svg\" alt=\"Open In Colab\"/></a>"
      ]
    },
    {
      "cell_type": "code",
      "execution_count": 1,
      "metadata": {
        "colab": {
          "base_uri": "https://localhost:8080/"
        },
        "id": "igsmS5TZthx0",
        "outputId": "cd6b702d-035c-4b9d-fbdd-65c99d4566ba"
      },
      "outputs": [
        {
          "output_type": "stream",
          "name": "stdout",
          "text": [
            "Original DataFrame:\n",
            "   customer_id  gender       city  fruits\n",
            "0            1    Male  Hyderabad   Apple\n",
            "1            2  Female       Pune  Orange\n",
            "2            3  Female  Bangalore    Kiwi\n",
            "3            4    Male     Mumbai  Banana\n",
            "\n",
            "DataFrame with One-Hot Encoded columns:\n",
            "   customer_id  gender_Female  gender_Male  city_Bangalore  city_Hyderabad  \\\n",
            "0            1            0.0          1.0             0.0             1.0   \n",
            "1            2            1.0          0.0             0.0             0.0   \n",
            "2            3            1.0          0.0             1.0             0.0   \n",
            "3            4            0.0          1.0             0.0             0.0   \n",
            "\n",
            "   city_Mumbai  city_Pune  fruits_Apple  fruits_Banana  fruits_Kiwi  \\\n",
            "0          0.0        0.0           1.0            0.0          0.0   \n",
            "1          0.0        1.0           0.0            0.0          0.0   \n",
            "2          0.0        0.0           0.0            0.0          1.0   \n",
            "3          1.0        0.0           0.0            1.0          0.0   \n",
            "\n",
            "   fruits_Orange  \n",
            "0            0.0  \n",
            "1            1.0  \n",
            "2            0.0  \n",
            "3            0.0  \n"
          ]
        }
      ],
      "source": [
        "import pandas as pd\n",
        "from sklearn.preprocessing import OneHotEncoder\n",
        "\n",
        "data = {\n",
        "    \"customer_id\": [1, 2, 3, 4],\n",
        "    \"gender\": [\"Male\", \"Female\", \"Female\", \"Male\"],\n",
        "    \"city\": [\"Hyderabad\", \"Pune\", \"Bangalore\", \"Mumbai\"],\n",
        "    \"fruits\": [\"Apple\", \"Orange\", \"Kiwi\", \"Banana\"]\n",
        "}\n",
        "df = pd.DataFrame(data)\n",
        "print(\"Original DataFrame:\")\n",
        "print(df)\n",
        "\n",
        "one_hot_encoder = OneHotEncoder(sparse_output=False)\n",
        "\n",
        "columns_to_encode = [\"gender\", \"city\", \"fruits\"]\n",
        "\n",
        "encoded_data = one_hot_encoder.fit_transform(df[columns_to_encode])\n",
        "\n",
        "encoded_df = pd.DataFrame(encoded_data, columns=one_hot_encoder.get_feature_names_out(columns_to_encode))\n",
        "\n",
        "final_df = pd.concat([df, encoded_df], axis=1).drop(columns_to_encode, axis=1)\n",
        "print(\"\\nDataFrame with One-Hot Encoded columns:\")\n",
        "print(final_df)"
      ]
    },
    {
      "cell_type": "code",
      "source": [
        "import pandas as pd\n",
        "from sklearn.preprocessing import LabelEncoder\n",
        "\n",
        "data = {\n",
        "    \"customer_id\": [1, 2, 3, 4],\n",
        "    \"Ranks\": [\"first\", \"second\", \"third\", \"fourth\"],\n",
        "    \"fruits\": [\"orange\", \"apple\", \"pineapple\", \"watermelon\"]\n",
        "}\n",
        "\n",
        "df = pd.DataFrame(data)\n",
        "print(\"Original DataFrame:\")\n",
        "print(df)\n",
        "\n",
        "label_encoder = LabelEncoder()\n",
        "df[\"fruits\"] = label_encoder.fit_transform(df[\"fruits\"])\n",
        "df[\"Ranks\"] = label_encoder.fit_transform(df[\"Ranks\"])\n",
        "print(\"\\nDataFrame after encoding ranks with custom order:\")\n",
        "print(df)"
      ],
      "metadata": {
        "colab": {
          "base_uri": "https://localhost:8080/"
        },
        "id": "CoO92oPAtrP2",
        "outputId": "2a25b9dd-9f41-4a6e-9fb5-7d8b0b4e70a8"
      },
      "execution_count": 2,
      "outputs": [
        {
          "output_type": "stream",
          "name": "stdout",
          "text": [
            "Original DataFrame:\n",
            "   customer_id   Ranks      fruits\n",
            "0            1   first      orange\n",
            "1            2  second       apple\n",
            "2            3   third   pineapple\n",
            "3            4  fourth  watermelon\n",
            "\n",
            "DataFrame after encoding ranks with custom order:\n",
            "   customer_id  Ranks  fruits\n",
            "0            1      0       1\n",
            "1            2      2       0\n",
            "2            3      3       2\n",
            "3            4      1       3\n"
          ]
        }
      ]
    },
    {
      "cell_type": "code",
      "source": [],
      "metadata": {
        "id": "rT_ocSKQt6x_"
      },
      "execution_count": 3,
      "outputs": []
    },
    {
      "cell_type": "code",
      "source": [],
      "metadata": {
        "id": "tPXpGL4VuAMM"
      },
      "execution_count": null,
      "outputs": []
    }
  ]
}